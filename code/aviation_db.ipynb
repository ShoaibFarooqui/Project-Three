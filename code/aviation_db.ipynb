{
 "cells": [
  {
   "attachments": {},
   "cell_type": "markdown",
   "metadata": {},
   "source": [
    "# Aviation Database\n",
    "Provided by Kheirallah Samaha\n",
    "<br>\n",
    "https://www.kaggle.com/datasets/khsamaha/aviation-accident-database-synopses"
   ]
  },
  {
   "cell_type": "code",
   "execution_count": 1,
   "metadata": {},
   "outputs": [],
   "source": [
    "# Import dependencies\n",
    "from pymongo import MongoClient\n",
    "from pprint import pprint\n",
    "import pandas as pd\n",
    "from datetime import datetime"
   ]
  },
  {
   "cell_type": "code",
   "execution_count": 2,
   "metadata": {},
   "outputs": [],
   "source": [
    "mongo = MongoClient(port=27017)"
   ]
  },
  {
   "cell_type": "code",
   "execution_count": 3,
   "metadata": {},
   "outputs": [
    {
     "name": "stderr",
     "output_type": "stream",
     "text": [
      "2023-04-12T21:41:22.458-0500\tconnected to: mongodb://localhost/\n",
      "2023-04-12T21:41:22.458-0500\tdropping: aviation.accidents\n",
      "2023-04-12T21:41:25.219-0500\t88889 document(s) imported successfully. 0 document(s) failed to import.\n",
      "2023-04-12T21:41:25.866-0500\tconnected to: mongodb://localhost/\n",
      "2023-04-12T21:41:25.867-0500\tdropping: aviation.state_codes\n",
      "2023-04-12T21:41:25.893-0500\t62 document(s) imported successfully. 0 document(s) failed to import.\n"
     ]
    }
   ],
   "source": [
    "!mongoimport --type csv -d aviation -c accidents --headerline --drop \"..\\\\data\\\\AviationData.csv\"\n",
    "\n",
    "!mongoimport --type csv -d aviation -c state_codes --headerline --drop \"..\\\\data\\\\USState_Codes.csv\""
   ]
  },
  {
   "cell_type": "code",
   "execution_count": 4,
   "metadata": {},
   "outputs": [],
   "source": [
    "db = mongo.aviation\n",
    "accident_c = db.accidents\n",
    "state_c = db.state_codes"
   ]
  },
  {
   "cell_type": "code",
   "execution_count": 5,
   "metadata": {},
   "outputs": [
    {
     "data": {
      "text/plain": [
       "<pymongo.command_cursor.CommandCursor at 0x242192796c8>"
      ]
     },
     "execution_count": 5,
     "metadata": {},
     "output_type": "execute_result"
    }
   ],
   "source": [
    "# change Event.Date to Date codes\n",
    "accident_c.aggregate([{\n",
    "    \"$project\": {\n",
    "        \"Event.Date\": {\n",
    "            \"$toDate\": \"$Event.Date\"\n",
    "            }\n",
    "        }\n",
    "    }\n",
    "])\n"
   ]
  },
  {
   "cell_type": "code",
   "execution_count": 6,
   "metadata": {},
   "outputs": [
    {
     "name": "stdout",
     "output_type": "stream",
     "text": [
      "[{'Event': {'Date': '1979-09-17'},\n",
      "  'Latitude': 42.445277,\n",
      "  'Longitude': -70.758333,\n",
      "  '_id': ObjectId('64376bd2ed6c552f20cb0537')},\n",
      " {'Event': {'Date': '1974-08-30'},\n",
      "  'Latitude': 36.922223,\n",
      "  'Longitude': -81.878056,\n",
      "  '_id': ObjectId('64376bd2ed6c552f20cb0538')},\n",
      " {'Event': {'Date': '1982-03-16'},\n",
      "  'Latitude': 30.757778,\n",
      "  'Longitude': -88.355555,\n",
      "  '_id': ObjectId('64376bd2ed6c552f20cb0780')}]\n"
     ]
    }
   ],
   "source": [
    "# exclude flight records without coordinate data\n",
    "\n",
    "query = {\n",
    "    \"Latitude\": {\"$ne\":\"\"},\n",
    "    \"Longitude\": {\"$ne\":\"\"}\n",
    "}\n",
    "\n",
    "limit = 3\n",
    "\n",
    "fields = {\n",
    "    \"Event.Date\": 1,\n",
    "    \"Latitude\": 1,\n",
    "    \"Longitude\": 1\n",
    "}\n",
    "\n",
    "pprint(list(accident_c.find(query, fields).limit(limit)))\n",
    "\n"
   ]
  }
 ],
 "metadata": {
  "kernelspec": {
   "display_name": "PythonData",
   "language": "python",
   "name": "python3"
  },
  "language_info": {
   "codemirror_mode": {
    "name": "ipython",
    "version": 3
   },
   "file_extension": ".py",
   "mimetype": "text/x-python",
   "name": "python",
   "nbconvert_exporter": "python",
   "pygments_lexer": "ipython3",
   "version": "3.7.7"
  },
  "orig_nbformat": 4
 },
 "nbformat": 4,
 "nbformat_minor": 2
}
