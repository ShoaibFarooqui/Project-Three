{
 "cells": [
  {
   "attachments": {},
   "cell_type": "markdown",
   "metadata": {},
   "source": [
    "# Aviation Database\n",
    "Provided by Kheirallah Samaha\n",
    "<br>\n",
    "https://www.kaggle.com/datasets/khsamaha/aviation-accident-database-synopses"
   ]
  },
  {
   "cell_type": "code",
   "execution_count": 1,
   "metadata": {},
   "outputs": [],
   "source": [
    "#Import dependencies\n",
    "from pymongo import MongoClient\n",
    "from pprint import pprint\n",
    "import pandas as pd"
   ]
  },
  {
   "cell_type": "code",
   "execution_count": 2,
   "metadata": {},
   "outputs": [],
   "source": [
    "mongo = MongoClient(port=27017)"
   ]
  },
  {
   "cell_type": "code",
   "execution_count": 3,
   "metadata": {},
   "outputs": [
    {
     "name": "stderr",
     "output_type": "stream",
     "text": [
      "2023-04-12T19:36:37.940-0500\tconnected to: mongodb://localhost/\n",
      "2023-04-12T19:36:37.941-0500\tdropping: aviation.accidents\n",
      "2023-04-12T19:36:40.954-0500\t[################........] aviation.accidents\t15.1MB/21.5MB (70.1%)\n",
      "2023-04-12T19:36:41.633-0500\t[########################] aviation.accidents\t21.5MB/21.5MB (100.0%)\n",
      "2023-04-12T19:36:41.633-0500\t88889 document(s) imported successfully. 0 document(s) failed to import.\n",
      "2023-04-12T19:36:42.293-0500\tconnected to: mongodb://localhost/\n",
      "2023-04-12T19:36:42.295-0500\tdropping: aviation.state_codes\n",
      "2023-04-12T19:36:42.325-0500\t62 document(s) imported successfully. 0 document(s) failed to import.\n"
     ]
    }
   ],
   "source": [
    "!mongoimport --type csv -d aviation -c accidents --headerline --drop \"..\\\\data\\\\AviationData.csv\"\n",
    "\n",
    "!mongoimport --type csv -d aviation -c state_codes --headerline --drop \"..\\\\data\\\\USState_Codes.csv\""
   ]
  }
 ],
 "metadata": {
  "kernelspec": {
   "display_name": "PythonData",
   "language": "python",
   "name": "python3"
  },
  "language_info": {
   "codemirror_mode": {
    "name": "ipython",
    "version": 3
   },
   "file_extension": ".py",
   "mimetype": "text/x-python",
   "name": "python",
   "nbconvert_exporter": "python",
   "pygments_lexer": "ipython3",
   "version": "3.7.7"
  },
  "orig_nbformat": 4
 },
 "nbformat": 4,
 "nbformat_minor": 2
}
